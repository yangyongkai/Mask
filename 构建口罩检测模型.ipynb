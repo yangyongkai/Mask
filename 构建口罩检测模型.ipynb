{
 "cells": [
  {
   "cell_type": "code",
   "execution_count": 37,
   "metadata": {},
   "outputs": [],
   "source": [
    "import tensorflow as tf\n",
    "import numpy as np\n",
    "import os\n",
    "from lxml import etree\n",
    "import glob\n",
    "import cv2"
   ]
  },
  {
   "cell_type": "markdown",
   "metadata": {},
   "source": [
    "剪裁图片"
   ]
  },
  {
   "cell_type": "code",
   "execution_count": null,
   "metadata": {},
   "outputs": [],
   "source": [
    "# 定义剪裁人脸函数 \n",
    "\n",
    "def tailor_img(image, xml):\n",
    "    xml = open('{}'.format(xml),encoding='utf-8').read()\n",
    "    sel = etree.HTML(xml)\n",
    "    xmin = int(sel.xpath('//bndbox/xmin/text()')[0])\n",
    "    xmax = int(sel.xpath('//bndbox/xmax/text()')[0])\n",
    "    ymin = int(sel.xpath('//bndbox/ymin/text()')[0])\n",
    "    ymax = int(sel.xpath('//bndbox/ymax/text()')[0])\n",
    "    \n",
    "    img = cv2.imread(image)\n",
    "    dst = img[ymin:ymax, xmin:xmax]\n",
    "    \n",
    "    return dst"
   ]
  },
  {
   "cell_type": "code",
   "execution_count": 10,
   "metadata": {},
   "outputs": [],
   "source": [
    "# 获取图片和xmls路径\n",
    "\n",
    "images = glob.glob('D:/Jupyter/dataset/face2/data/*.jpg')\n",
    "xmls = glob.glob('D:/Jupyter/dataset/face2/label/*.xml')"
   ]
  },
  {
   "cell_type": "code",
   "execution_count": 12,
   "metadata": {},
   "outputs": [],
   "source": [
    "# 图片和xmls数量不对，筛选一下\n",
    "# 获取文件名\n",
    "img_name = [img.split('\\\\')[1].split('.jpg')[0] for img in images]\n",
    "xml_name = [x.split('\\\\')[1].split('.xml')[0] for x in xmls]"
   ]
  },
  {
   "cell_type": "code",
   "execution_count": 14,
   "metadata": {},
   "outputs": [
    {
     "data": {
      "text/plain": [
       "(3539, 3268)"
      ]
     },
     "execution_count": 14,
     "metadata": {},
     "output_type": "execute_result"
    }
   ],
   "source": [
    "len(img_name), len(xml_name)"
   ]
  },
  {
   "cell_type": "code",
   "execution_count": 15,
   "metadata": {},
   "outputs": [],
   "source": [
    "images2 = []\n",
    "for x in images:\n",
    "    if int(x.split('\\\\')[1].split('.jpg')[0] in xml_name)==1:\n",
    "        images2.append(x)"
   ]
  },
  {
   "cell_type": "code",
   "execution_count": 16,
   "metadata": {},
   "outputs": [],
   "source": [
    "img_name2 = [img.split('\\\\')[1].split('.jpg')[0] for img in images2]"
   ]
  },
  {
   "cell_type": "code",
   "execution_count": 17,
   "metadata": {},
   "outputs": [],
   "source": [
    "xmls2 = []\n",
    "for x in xmls:\n",
    "    if int(x.split('\\\\')[1].split('.xml')[0] in img_name2)==1:\n",
    "        xmls2.append(x)"
   ]
  },
  {
   "cell_type": "code",
   "execution_count": 18,
   "metadata": {},
   "outputs": [
    {
     "data": {
      "text/plain": [
       "(3261, 3261)"
      ]
     },
     "execution_count": 18,
     "metadata": {},
     "output_type": "execute_result"
    }
   ],
   "source": [
    "# 经过一顿操作现在数量相同了\n",
    "len(images2), len(xmls2)"
   ]
  },
  {
   "cell_type": "code",
   "execution_count": null,
   "metadata": {
    "scrolled": true
   },
   "outputs": [],
   "source": [
    "# 剪裁出来人脸\n",
    "\n",
    "s = len(images2)\n",
    "img_data = []   # 人脸图片\n",
    "new_images = images2.copy()   #原图片路径\n",
    "for i in range(s):\n",
    "    data = tailor_img(images2[i], xmls2[i])\n",
    "    img_data.append(data)\n"
   ]
  },
  {
   "cell_type": "code",
   "execution_count": null,
   "metadata": {},
   "outputs": [],
   "source": [
    "# 保存人脸图片到本地\n",
    "\n",
    "for i in range(len(img_data)):\n",
    "    path = 'D:/Jupyter/dataset/face2/face_img/'\n",
    "    name = os.path.basename(images[i])\n",
    "    pathN = os.path.join(path, name)\n",
    "    cv2.imwrite(pathN,img_data[i])"
   ]
  },
  {
   "cell_type": "code",
   "execution_count": 19,
   "metadata": {},
   "outputs": [],
   "source": [
    "# 获取人脸图片\n",
    "face_img = glob.glob('D:/Jupyter/dataset/face2/face_img/*.jpg')"
   ]
  },
  {
   "cell_type": "code",
   "execution_count": 20,
   "metadata": {},
   "outputs": [],
   "source": [
    "# 定义获取图片对应的label函数\n",
    "def get_label(xml):\n",
    "    xml = open('{}'.format(xml),encoding='utf-8').read()\n",
    "    sel = etree.HTML(xml)\n",
    "    label = sel.xpath('//object/name/text()')[0]\n",
    "    return label"
   ]
  },
  {
   "cell_type": "code",
   "execution_count": 21,
   "metadata": {},
   "outputs": [],
   "source": [
    "labels = []\n",
    "for i in xmls2:\n",
    "    l = get_label(i)\n",
    "    if l=='nomask':\n",
    "        l = 0\n",
    "    else:\n",
    "        l = 1\n",
    "    labels.append(l)"
   ]
  },
  {
   "cell_type": "code",
   "execution_count": 22,
   "metadata": {},
   "outputs": [
    {
     "data": {
      "text/plain": [
       "(3261, 3261)"
      ]
     },
     "execution_count": 22,
     "metadata": {},
     "output_type": "execute_result"
    }
   ],
   "source": [
    "len(labels),len(face_img)"
   ]
  },
  {
   "cell_type": "code",
   "execution_count": 23,
   "metadata": {},
   "outputs": [],
   "source": [
    "# 创建数据输入管道\n",
    "\n",
    "face_img2 = [cv2.imread(path) for path in face_img]\n",
    "face_img2 = [cv2.resize(img, (48, 48)) for img in face_img2]\n",
    "face_img2 = [x/255 for x in face_img2]"
   ]
  },
  {
   "cell_type": "code",
   "execution_count": 26,
   "metadata": {},
   "outputs": [],
   "source": [
    "# 创建dataset\n",
    "img_ds = tf.data.Dataset.from_tensor_slices(face_img2)\n",
    "labels_ds = tf.data.Dataset.from_tensor_slices(labels)"
   ]
  },
  {
   "cell_type": "code",
   "execution_count": 27,
   "metadata": {},
   "outputs": [],
   "source": [
    "data = tf.data.Dataset.zip((img_ds, labels_ds))"
   ]
  },
  {
   "cell_type": "code",
   "execution_count": 28,
   "metadata": {},
   "outputs": [
    {
     "data": {
      "text/plain": [
       "<ZipDataset shapes: ((48, 48, 3), ()), types: (tf.float64, tf.int32)>"
      ]
     },
     "execution_count": 28,
     "metadata": {},
     "output_type": "execute_result"
    }
   ],
   "source": [
    "data"
   ]
  },
  {
   "cell_type": "code",
   "execution_count": 29,
   "metadata": {},
   "outputs": [
    {
     "data": {
      "text/plain": [
       "2609"
      ]
     },
     "execution_count": 29,
     "metadata": {},
     "output_type": "execute_result"
    }
   ],
   "source": [
    "# 划分训练集和测试集\n",
    "image_count = len(face_img)\n",
    "test_count = int(image_count*0.2)\n",
    "train_count = image_count-test_count\n",
    "\n",
    "train_data = data.skip(test_count)\n",
    "test_data = data.take(test_count)\n",
    "\n",
    "train_count"
   ]
  },
  {
   "cell_type": "code",
   "execution_count": 30,
   "metadata": {},
   "outputs": [],
   "source": [
    "train_data = data.repeat().shuffle(train_count).batch(8)\n",
    "test_data = test_data.batch(8)"
   ]
  },
  {
   "cell_type": "code",
   "execution_count": 3,
   "metadata": {},
   "outputs": [],
   "source": [
    "# 构造模型\n",
    "model = tf.keras.Sequential() #顺序模型"
   ]
  },
  {
   "cell_type": "code",
   "execution_count": 4,
   "metadata": {},
   "outputs": [],
   "source": [
    "model.add(tf.keras.layers.Conv2D(64, (3,3), input_shape=(48, 48, 3), activation='relu'))"
   ]
  },
  {
   "cell_type": "code",
   "execution_count": 5,
   "metadata": {},
   "outputs": [],
   "source": [
    "model.add(tf.keras.layers.Conv2D(64, (3,3), activation='relu'))"
   ]
  },
  {
   "cell_type": "code",
   "execution_count": 6,
   "metadata": {},
   "outputs": [],
   "source": [
    "model.add(tf.keras.layers.MaxPooling2D())"
   ]
  },
  {
   "cell_type": "code",
   "execution_count": 7,
   "metadata": {},
   "outputs": [],
   "source": [
    "model.add(tf.keras.layers.Conv2D(128, (3,3), activation='relu'))"
   ]
  },
  {
   "cell_type": "code",
   "execution_count": 8,
   "metadata": {},
   "outputs": [],
   "source": [
    "model.add(tf.keras.layers.Conv2D(128, (3,3), activation='relu'))"
   ]
  },
  {
   "cell_type": "code",
   "execution_count": 40,
   "metadata": {},
   "outputs": [],
   "source": [
    "model.add(tf.keras.layers.GlobalAveragePooling2D())\n",
    "model.add(tf.keras.layers.Dense(256, activation='relu'))\n",
    "model.add(tf.keras.layers.Dense(1, activation='sigmoid'))"
   ]
  },
  {
   "cell_type": "code",
   "execution_count": 41,
   "metadata": {},
   "outputs": [],
   "source": [
    "# 配置模型\n",
    "model.compile(optimizer=tf.keras.optimizers.Adam(lr=0.001),\n",
    "              loss='binary_crossentropy',\n",
    "              metrics=['acc']\n",
    "             )"
   ]
  },
  {
   "cell_type": "code",
   "execution_count": 42,
   "metadata": {},
   "outputs": [],
   "source": [
    "callbacks = tf.keras.callbacks.ModelCheckpoint('M4.h5',save_best_only = True)"
   ]
  },
  {
   "cell_type": "code",
   "execution_count": 43,
   "metadata": {},
   "outputs": [],
   "source": [
    "steps_per_epoch = train_count//8\n",
    "validation_steps = test_count//8"
   ]
  },
  {
   "cell_type": "code",
   "execution_count": 44,
   "metadata": {
    "scrolled": true
   },
   "outputs": [
    {
     "name": "stdout",
     "output_type": "stream",
     "text": [
      "Train for 326 steps, validate for 81 steps\n",
      "Epoch 1/10\n",
      "326/326 [==============================] - 20s 62ms/step - loss: 0.6167 - acc: 0.8980 - val_loss: 0.0736 - val_acc: 0.9645\n",
      "Epoch 2/10\n",
      "326/326 [==============================] - 5s 17ms/step - loss: 0.2052 - acc: 0.9379 - val_loss: 0.3146 - val_acc: 0.9738\n",
      "Epoch 3/10\n",
      "326/326 [==============================] - 6s 18ms/step - loss: 0.1782 - acc: 0.9456 - val_loss: 0.0443 - val_acc: 0.9877\n",
      "Epoch 4/10\n",
      "326/326 [==============================] - 6s 17ms/step - loss: 0.1445 - acc: 0.9525 - val_loss: 0.1661 - val_acc: 0.9306\n",
      "Epoch 5/10\n",
      "326/326 [==============================] - 6s 17ms/step - loss: 0.1863 - acc: 0.9425 - val_loss: 0.0932 - val_acc: 0.9722\n",
      "Epoch 6/10\n",
      "326/326 [==============================] - 6s 18ms/step - loss: 0.1665 - acc: 0.9471 - val_loss: 0.0735 - val_acc: 0.9769\n",
      "Epoch 7/10\n",
      "326/326 [==============================] - 6s 17ms/step - loss: 0.1338 - acc: 0.9509 - val_loss: 0.0802 - val_acc: 0.9753\n",
      "Epoch 8/10\n",
      "326/326 [==============================] - 6s 18ms/step - loss: 0.1267 - acc: 0.9571 - val_loss: 0.0466 - val_acc: 0.9815\n",
      "Epoch 9/10\n",
      "326/326 [==============================] - 6s 19ms/step - loss: 0.1269 - acc: 0.9536 - val_loss: 0.0772 - val_acc: 0.9753\n",
      "Epoch 10/10\n",
      "326/326 [==============================] - 6s 17ms/step - loss: 0.1440 - acc: 0.9525 - val_loss: 0.0495 - val_acc: 0.9907\n"
     ]
    }
   ],
   "source": [
    "history = model.fit(train_data, \n",
    "                    epochs=10, \n",
    "                    steps_per_epoch=steps_per_epoch,\n",
    "                    validation_data=test_data,\n",
    "                    validation_steps=validation_steps,  \n",
    "                    callbacks=[callbacks]\n",
    ")"
   ]
  }
 ],
 "metadata": {
  "kernelspec": {
   "display_name": "Python 3",
   "language": "python",
   "name": "python3"
  },
  "language_info": {
   "codemirror_mode": {
    "name": "ipython",
    "version": 3
   },
   "file_extension": ".py",
   "mimetype": "text/x-python",
   "name": "python",
   "nbconvert_exporter": "python",
   "pygments_lexer": "ipython3",
   "version": "3.7.3"
  }
 },
 "nbformat": 4,
 "nbformat_minor": 2
}
